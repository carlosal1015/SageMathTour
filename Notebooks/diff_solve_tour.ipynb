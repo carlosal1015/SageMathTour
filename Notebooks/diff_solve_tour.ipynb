{
 "cells": [
  {
   "cell_type": "markdown",
   "metadata": {},
   "source": [
    "# Solving a differential equation with SageMath"
   ]
  },
  {
   "cell_type": "code",
   "execution_count": 1,
   "metadata": {},
   "outputs": [],
   "source": [
    "%display latex"
   ]
  },
  {
   "cell_type": "markdown",
   "metadata": {},
   "source": [
    "## Exact solutions: `desolve`"
   ]
  },
  {
   "cell_type": "code",
   "execution_count": 2,
   "metadata": {},
   "outputs": [
    {
     "data": {
      "text/html": [
       "<html><script type=\"math/tex; mode=display\">\\newcommand{\\Bold}[1]{\\mathbf{#1}}y\\left(x\\right)</script></html>"
      ],
      "text/plain": [
       "y(x)"
      ]
     },
     "execution_count": 2,
     "metadata": {},
     "output_type": "execute_result"
    }
   ],
   "source": [
    "x = var('x')\n",
    "y = function('y')(x)\n",
    "y"
   ]
  },
  {
   "cell_type": "code",
   "execution_count": 3,
   "metadata": {},
   "outputs": [
    {
     "data": {
      "text/html": [
       "<html><script type=\"math/tex; mode=display\">\\newcommand{\\Bold}[1]{\\mathbf{#1}}-y\\left(x\\right) + \\frac{\\partial}{\\partial x}y\\left(x\\right) = x y\\left(x\\right)^{4}</script></html>"
      ],
      "text/plain": [
       "-y(x) + diff(y(x), x) == x*y(x)^4"
      ]
     },
     "execution_count": 3,
     "metadata": {},
     "output_type": "execute_result"
    }
   ],
   "source": [
    "eq = diff(y, x) - y == x*y^4\n",
    "eq"
   ]
  },
  {
   "cell_type": "code",
   "execution_count": 4,
   "metadata": {},
   "outputs": [
    {
     "name": "stdout",
     "output_type": "stream",
     "text": [
      "-y(x) + diff(y(x), x) == x*y(x)^4\n"
     ]
    }
   ],
   "source": [
    "print(eq)"
   ]
  },
  {
   "cell_type": "code",
   "execution_count": 5,
   "metadata": {},
   "outputs": [
    {
     "data": {
      "text/html": [
       "<html><script type=\"math/tex; mode=display\">\\newcommand{\\Bold}[1]{\\mathbf{#1}}\\frac{e^{x}}{{\\left(-\\frac{1}{3} \\, {\\left(3 \\, x - 1\\right)} e^{\\left(3 \\, x\\right)} + C\\right)}^{\\frac{1}{3}}}</script></html>"
      ],
      "text/plain": [
       "e^x/(-1/3*(3*x - 1)*e^(3*x) + _C)^(1/3)"
      ]
     },
     "execution_count": 5,
     "metadata": {},
     "output_type": "execute_result"
    }
   ],
   "source": [
    "desolve(eq, y)"
   ]
  },
  {
   "cell_type": "code",
   "execution_count": 6,
   "metadata": {},
   "outputs": [
    {
     "name": "stdout",
     "output_type": "stream",
     "text": [
      "e^x/(-1/3*(3*x - 1)*e^(3*x) + _C)^(1/3)\n"
     ]
    }
   ],
   "source": [
    "print(desolve(eq, y))"
   ]
  },
  {
   "cell_type": "code",
   "execution_count": 7,
   "metadata": {},
   "outputs": [
    {
     "data": {
      "text/html": [
       "<html><script type=\"math/tex; mode=display\">\\newcommand{\\Bold}[1]{\\mathbf{#1}}\\left[\\frac{e^{x}}{{\\left(-\\frac{1}{3} \\, {\\left(3 \\, x - 1\\right)} e^{\\left(3 \\, x\\right)} + C\\right)}^{\\frac{1}{3}}}, \\verb|bernoulli|\\right]</script></html>"
      ],
      "text/plain": [
       "[e^x/(-1/3*(3*x - 1)*e^(3*x) + _C)^(1/3), 'bernoulli']"
      ]
     },
     "execution_count": 7,
     "metadata": {},
     "output_type": "execute_result"
    }
   ],
   "source": [
    "desolve(eq, y, show_method='True')"
   ]
  },
  {
   "cell_type": "code",
   "execution_count": 8,
   "metadata": {},
   "outputs": [
    {
     "data": {
      "text/html": [
       "<html><script type=\"math/tex; mode=display\">\\newcommand{\\Bold}[1]{\\mathbf{#1}}\\frac{e^{x}}{{\\left(-\\frac{1}{3} \\, {\\left(3 \\, x - 1\\right)} e^{\\left(3 \\, x\\right)} - \\frac{5}{24}\\right)}^{\\frac{1}{3}}}</script></html>"
      ],
      "text/plain": [
       "e^x/(-1/3*(3*x - 1)*e^(3*x) - 5/24)^(1/3)"
      ]
     },
     "execution_count": 8,
     "metadata": {},
     "output_type": "execute_result"
    }
   ],
   "source": [
    "desolve(eq, y, ics=[0, 2])"
   ]
  },
  {
   "cell_type": "code",
   "execution_count": 9,
   "metadata": {},
   "outputs": [
    {
     "data": {
      "text/html": [
       "<html><script type=\"math/tex; mode=display\">\\newcommand{\\Bold}[1]{\\mathbf{#1}}-\\frac{x e^{\\left(4 \\, x\\right)}}{{\\left(-\\frac{1}{3} \\, {\\left(3 \\, x - 1\\right)} e^{\\left(3 \\, x\\right)} - \\frac{5}{24}\\right)}^{\\frac{4}{3}}} + \\frac{{\\left({\\left(3 \\, x - 1\\right)} e^{\\left(3 \\, x\\right)} + e^{\\left(3 \\, x\\right)}\\right)} e^{x}}{3 \\, {\\left(-\\frac{1}{3} \\, {\\left(3 \\, x - 1\\right)} e^{\\left(3 \\, x\\right)} - \\frac{5}{24}\\right)}^{\\frac{4}{3}}}</script></html>"
      ],
      "text/plain": [
       "-x*e^(4*x)/(-1/3*(3*x - 1)*e^(3*x) - 5/24)^(4/3) + 1/3*((3*x - 1)*e^(3*x) + e^(3*x))*e^x/(-1/3*(3*x - 1)*e^(3*x) - 5/24)^(4/3)"
      ]
     },
     "execution_count": 9,
     "metadata": {},
     "output_type": "execute_result"
    }
   ],
   "source": [
    "f(x) = desolve(eq, y, ics=[0, 2])\n",
    "diff(f(x), x) - f(x) - x*f(x)^4"
   ]
  },
  {
   "cell_type": "code",
   "execution_count": 10,
   "metadata": {},
   "outputs": [
    {
     "data": {
      "text/html": [
       "<html><script type=\"math/tex; mode=display\">\\newcommand{\\Bold}[1]{\\mathbf{#1}}-\\frac{x e^{\\left(4 \\, x\\right)}}{{\\left(-\\frac{1}{3} \\, {\\left(3 \\, x - 1\\right)} e^{\\left(3 \\, x\\right)} - \\frac{5}{24}\\right)}^{\\frac{4}{3}}} + \\frac{{\\left({\\left(3 \\, x - 1\\right)} e^{\\left(3 \\, x\\right)} + e^{\\left(3 \\, x\\right)}\\right)} e^{x}}{3 \\, {\\left(-\\frac{1}{3} \\, {\\left(3 \\, x - 1\\right)} e^{\\left(3 \\, x\\right)} - \\frac{5}{24}\\right)}^{\\frac{4}{3}}}</script></html>"
      ],
      "text/plain": [
       "-x*e^(4*x)/(-1/3*(3*x - 1)*e^(3*x) - 5/24)^(4/3) + 1/3*((3*x - 1)*e^(3*x) + e^(3*x))*e^x/(-1/3*(3*x - 1)*e^(3*x) - 5/24)^(4/3)"
      ]
     },
     "execution_count": 10,
     "metadata": {},
     "output_type": "execute_result"
    }
   ],
   "source": [
    "z = diff(f(x), x) - f(x) - x*f(x)^4\n",
    "z"
   ]
  },
  {
   "cell_type": "code",
   "execution_count": 11,
   "metadata": {},
   "outputs": [],
   "source": [
    "z = diff(f(x), x) - f(x) - x*f(x)^4"
   ]
  },
  {
   "cell_type": "code",
   "execution_count": 12,
   "metadata": {},
   "outputs": [
    {
     "data": {
      "text/html": [
       "<html><script type=\"math/tex; mode=display\">\\newcommand{\\Bold}[1]{\\mathbf{#1}}0</script></html>"
      ],
      "text/plain": [
       "0"
      ]
     },
     "execution_count": 12,
     "metadata": {},
     "output_type": "execute_result"
    }
   ],
   "source": [
    "z.simplify_full()"
   ]
  },
  {
   "cell_type": "code",
   "execution_count": 13,
   "metadata": {},
   "outputs": [
    {
     "data": {
      "text/html": [
       "<html><script type=\"math/tex; mode=display\">\\newcommand{\\Bold}[1]{\\mathbf{#1}}2</script></html>"
      ],
      "text/plain": [
       "2"
      ]
     },
     "execution_count": 13,
     "metadata": {},
     "output_type": "execute_result"
    }
   ],
   "source": [
    "f(0)"
   ]
  },
  {
   "cell_type": "markdown",
   "metadata": {},
   "source": [
    "## System of differential equations: `desolve_system`"
   ]
  },
  {
   "cell_type": "code",
   "execution_count": 14,
   "metadata": {},
   "outputs": [
    {
     "data": {
      "text/html": [
       "<html><script type=\"math/tex; mode=display\">\\newcommand{\\Bold}[1]{\\mathbf{#1}}\\left(y_{1}\\left(x\\right),\\,y_{2}\\left(x\\right),\\,y_{3}\\left(x\\right)\\right)</script></html>"
      ],
      "text/plain": [
       "(y_1(x), y_2(x), y_3(x))"
      ]
     },
     "execution_count": 14,
     "metadata": {},
     "output_type": "execute_result"
    }
   ],
   "source": [
    "y1 = function('y_1')(x)\n",
    "y2 = function('y_2')(x)\n",
    "y3 = function('y_3')(x)\n",
    "y = vector([y1, y2, y3])\n",
    "y"
   ]
  },
  {
   "cell_type": "code",
   "execution_count": 15,
   "metadata": {},
   "outputs": [
    {
     "data": {
      "text/html": [
       "<html><script type=\"math/tex; mode=display\">\\newcommand{\\Bold}[1]{\\mathbf{#1}}\\left(\\begin{array}{rrr}\n",
       "2 & -2 & 0 \\\\\n",
       "-2 & 0 & 2 \\\\\n",
       "0 & 2 & 2\n",
       "\\end{array}\\right)</script></html>"
      ],
      "text/plain": [
       "[ 2 -2  0]\n",
       "[-2  0  2]\n",
       "[ 0  2  2]"
      ]
     },
     "execution_count": 15,
     "metadata": {},
     "output_type": "execute_result"
    }
   ],
   "source": [
    "A = matrix([[2,-2,0], [-2,0,2], [0,2,2]])\n",
    "A"
   ]
  },
  {
   "cell_type": "code",
   "execution_count": 16,
   "metadata": {},
   "outputs": [
    {
     "data": {
      "text/html": [
       "<html><script type=\"math/tex; mode=display\">\\newcommand{\\Bold}[1]{\\mathbf{#1}}\\left[\\frac{\\partial}{\\partial x}y_{1}\\left(x\\right) = 2 \\, y_{1}\\left(x\\right) - 2 \\, y_{2}\\left(x\\right), \\frac{\\partial}{\\partial x}y_{2}\\left(x\\right) = -2 \\, y_{1}\\left(x\\right) + 2 \\, y_{3}\\left(x\\right), \\frac{\\partial}{\\partial x}y_{3}\\left(x\\right) = 2 \\, y_{2}\\left(x\\right) + 2 \\, y_{3}\\left(x\\right)\\right]</script></html>"
      ],
      "text/plain": [
       "[diff(y_1(x), x) == 2*y_1(x) - 2*y_2(x),\n",
       " diff(y_2(x), x) == -2*y_1(x) + 2*y_3(x),\n",
       " diff(y_3(x), x) == 2*y_2(x) + 2*y_3(x)]"
      ]
     },
     "execution_count": 16,
     "metadata": {},
     "output_type": "execute_result"
    }
   ],
   "source": [
    "eqs = [diff(y[i],x) == (A*y)[i] for i in range(3)]\n",
    "eqs"
   ]
  },
  {
   "cell_type": "code",
   "execution_count": 17,
   "metadata": {},
   "outputs": [
    {
     "data": {
      "text/html": [
       "<html><script type=\"math/tex; mode=display\">\\newcommand{\\Bold}[1]{\\mathbf{#1}}\\frac{\\partial}{\\partial x}y_{1}\\left(x\\right) = 2 \\, y_{1}\\left(x\\right) - 2 \\, y_{2}\\left(x\\right)</script></html>"
      ],
      "text/plain": [
       "diff(y_1(x), x) == 2*y_1(x) - 2*y_2(x)"
      ]
     },
     "metadata": {},
     "output_type": "display_data"
    },
    {
     "data": {
      "text/html": [
       "<html><script type=\"math/tex; mode=display\">\\newcommand{\\Bold}[1]{\\mathbf{#1}}\\frac{\\partial}{\\partial x}y_{2}\\left(x\\right) = -2 \\, y_{1}\\left(x\\right) + 2 \\, y_{3}\\left(x\\right)</script></html>"
      ],
      "text/plain": [
       "diff(y_2(x), x) == -2*y_1(x) + 2*y_3(x)"
      ]
     },
     "metadata": {},
     "output_type": "display_data"
    },
    {
     "data": {
      "text/html": [
       "<html><script type=\"math/tex; mode=display\">\\newcommand{\\Bold}[1]{\\mathbf{#1}}\\frac{\\partial}{\\partial x}y_{3}\\left(x\\right) = 2 \\, y_{2}\\left(x\\right) + 2 \\, y_{3}\\left(x\\right)</script></html>"
      ],
      "text/plain": [
       "diff(y_3(x), x) == 2*y_2(x) + 2*y_3(x)"
      ]
     },
     "metadata": {},
     "output_type": "display_data"
    }
   ],
   "source": [
    "for eq in eqs:\n",
    "    show(eq)"
   ]
  },
  {
   "cell_type": "code",
   "execution_count": 18,
   "metadata": {},
   "outputs": [
    {
     "data": {
      "text/html": [
       "<html><script type=\"math/tex; mode=display\">\\newcommand{\\Bold}[1]{\\mathbf{#1}}\\left[y_{1}\\left(x\\right) = e^{\\left(4 \\, x\\right)} + e^{\\left(-2 \\, x\\right)}, y_{2}\\left(x\\right) = -e^{\\left(4 \\, x\\right)} + 2 \\, e^{\\left(-2 \\, x\\right)}, y_{3}\\left(x\\right) = -e^{\\left(4 \\, x\\right)} - e^{\\left(-2 \\, x\\right)}\\right]</script></html>"
      ],
      "text/plain": [
       "[y_1(x) == e^(4*x) + e^(-2*x),\n",
       " y_2(x) == -e^(4*x) + 2*e^(-2*x),\n",
       " y_3(x) == -e^(4*x) - e^(-2*x)]"
      ]
     },
     "execution_count": 18,
     "metadata": {},
     "output_type": "execute_result"
    }
   ],
   "source": [
    "sol = desolve_system(eqs, [y1,y2,y3], ics=[0, 2, 1, -2])\n",
    "sol"
   ]
  },
  {
   "cell_type": "markdown",
   "metadata": {},
   "source": [
    "## Numerical solutions"
   ]
  },
  {
   "cell_type": "code",
   "execution_count": 19,
   "metadata": {},
   "outputs": [],
   "source": [
    "rho = function('rho', latex_name=r'\\rho')\n",
    "p = function('p')\n",
    "m = function('m')\n",
    "Phi = function('Phi', latex_name=r'\\Phi')\n",
    "r = var('r')\n",
    "G = var('G')"
   ]
  },
  {
   "cell_type": "code",
   "execution_count": 20,
   "metadata": {},
   "outputs": [
    {
     "data": {
      "text/html": [
       "<html><script type=\"math/tex; mode=display\">\\newcommand{\\Bold}[1]{\\mathbf{#1}}\\frac{\\partial}{\\partial r}m\\left(r\\right) = 4 \\, \\pi r^{2} \\rho\\left(r\\right)</script></html>"
      ],
      "text/plain": [
       "diff(m(r), r) == 4*pi*r^2*rho(r)"
      ]
     },
     "metadata": {},
     "output_type": "display_data"
    },
    {
     "data": {
      "text/html": [
       "<html><script type=\"math/tex; mode=display\">\\newcommand{\\Bold}[1]{\\mathbf{#1}}\\frac{\\partial}{\\partial r}\\Phi\\left(r\\right) = \\frac{G m\\left(r\\right)}{r^{2}}</script></html>"
      ],
      "text/plain": [
       "diff(Phi(r), r) == G*m(r)/r^2"
      ]
     },
     "metadata": {},
     "output_type": "display_data"
    },
    {
     "data": {
      "text/html": [
       "<html><script type=\"math/tex; mode=display\">\\newcommand{\\Bold}[1]{\\mathbf{#1}}\\frac{\\partial}{\\partial r}p\\left(r\\right) = -\\frac{G m\\left(r\\right) \\rho\\left(r\\right)}{r^{2}}</script></html>"
      ],
      "text/plain": [
       "diff(p(r), r) == -G*m(r)*rho(r)/r^2"
      ]
     },
     "metadata": {},
     "output_type": "display_data"
    }
   ],
   "source": [
    "eq1 = diff(m(r), r) == 4*pi*r^2*rho(r)\n",
    "eq2 = diff(Phi(r), r) == G*m(r)/r^2\n",
    "eq3 = diff(p(r), r) == -rho(r)*G*m(r)/r^2\n",
    "for eq in [eq1, eq2, eq3]:\n",
    "    show(eq)"
   ]
  },
  {
   "cell_type": "code",
   "execution_count": 21,
   "metadata": {},
   "outputs": [
    {
     "data": {
      "text/html": [
       "<html><script type=\"math/tex; mode=display\">\\newcommand{\\Bold}[1]{\\mathbf{#1}}k \\rho\\left(r\\right)^{{\\gamma}}</script></html>"
      ],
      "text/plain": [
       "k*rho(r)^gam"
      ]
     },
     "execution_count": 21,
     "metadata": {},
     "output_type": "execute_result"
    }
   ],
   "source": [
    "k = var('k')\n",
    "gam = var('gam', latex_name=r'\\gamma')\n",
    "p_eos(r) = k*rho(r)^gam\n",
    "p_eos(r)"
   ]
  },
  {
   "cell_type": "code",
   "execution_count": 22,
   "metadata": {},
   "outputs": [
    {
     "data": {
      "text/html": [
       "<html><script type=\"math/tex; mode=display\">\\newcommand{\\Bold}[1]{\\mathbf{#1}}{\\gamma} k \\rho\\left(r\\right)^{{\\gamma} - 1} \\frac{\\partial}{\\partial r}\\rho\\left(r\\right) = -\\frac{G m\\left(r\\right) \\rho\\left(r\\right)}{r^{2}}</script></html>"
      ],
      "text/plain": [
       "gam*k*rho(r)^(gam - 1)*diff(rho(r), r) == -G*m(r)*rho(r)/r^2"
      ]
     },
     "execution_count": 22,
     "metadata": {},
     "output_type": "execute_result"
    }
   ],
   "source": [
    "eq3_rho = eq3.substitute_function(p, p_eos)\n",
    "eq3_rho"
   ]
  },
  {
   "cell_type": "code",
   "execution_count": 23,
   "metadata": {},
   "outputs": [
    {
     "data": {
      "text/html": [
       "<html><script type=\"math/tex; mode=display\">\\newcommand{\\Bold}[1]{\\mathbf{#1}}\\frac{\\partial}{\\partial r}\\rho\\left(r\\right) = -\\frac{G \\rho\\left(r\\right)^{-{\\gamma} + 2} m\\left(r\\right)}{{\\gamma} k r^{2}}</script></html>"
      ],
      "text/plain": [
       "diff(rho(r), r) == -G*rho(r)^(-gam + 2)*m(r)/(gam*k*r^2)"
      ]
     },
     "execution_count": 23,
     "metadata": {},
     "output_type": "execute_result"
    }
   ],
   "source": [
    "eq3_rho = (eq3_rho / (gam*k*rho(r)^(gam-1))).simplify_full()\n",
    "eq3_rho"
   ]
  },
  {
   "cell_type": "code",
   "execution_count": 24,
   "metadata": {},
   "outputs": [
    {
     "data": {
      "text/html": [
       "<html><script type=\"math/tex; mode=display\">\\newcommand{\\Bold}[1]{\\mathbf{#1}}\\frac{\\partial}{\\partial r}m\\left(r\\right) = 4 \\, \\pi r^{2} \\rho\\left(r\\right)</script></html>"
      ],
      "text/plain": [
       "diff(m(r), r) == 4*pi*r^2*rho(r)"
      ]
     },
     "metadata": {},
     "output_type": "display_data"
    },
    {
     "data": {
      "text/html": [
       "<html><script type=\"math/tex; mode=display\">\\newcommand{\\Bold}[1]{\\mathbf{#1}}\\frac{\\partial}{\\partial r}\\Phi\\left(r\\right) = \\frac{G m\\left(r\\right)}{r^{2}}</script></html>"
      ],
      "text/plain": [
       "diff(Phi(r), r) == G*m(r)/r^2"
      ]
     },
     "metadata": {},
     "output_type": "display_data"
    },
    {
     "data": {
      "text/html": [
       "<html><script type=\"math/tex; mode=display\">\\newcommand{\\Bold}[1]{\\mathbf{#1}}\\frac{\\partial}{\\partial r}\\rho\\left(r\\right) = -\\frac{G \\rho\\left(r\\right)^{-{\\gamma} + 2} m\\left(r\\right)}{{\\gamma} k r^{2}}</script></html>"
      ],
      "text/plain": [
       "diff(rho(r), r) == -G*rho(r)^(-gam + 2)*m(r)/(gam*k*r^2)"
      ]
     },
     "metadata": {},
     "output_type": "display_data"
    }
   ],
   "source": [
    "eqs = [eq1, eq2, eq3_rho]\n",
    "for eq in eqs:\n",
    "    show(eq)"
   ]
  },
  {
   "cell_type": "code",
   "execution_count": 25,
   "metadata": {},
   "outputs": [
    {
     "data": {
      "text/html": [
       "<html><script type=\"math/tex; mode=display\">\\newcommand{\\Bold}[1]{\\mathbf{#1}}\\left[4 \\, \\pi r^{2} \\rho\\left(r\\right), \\frac{m\\left(r\\right)}{r^{2}}, -\\frac{2 \\, m\\left(r\\right)}{r^{2}}\\right]</script></html>"
      ],
      "text/plain": [
       "[4*pi*r^2*rho(r), m(r)/r^2, -2*m(r)/r^2]"
      ]
     },
     "execution_count": 25,
     "metadata": {},
     "output_type": "execute_result"
    }
   ],
   "source": [
    "k0 = 1/4\n",
    "gam0 = 2\n",
    "rhs = [eq.rhs().subs({k: k0, gam: gam0, G: 1}) for eq in eqs]\n",
    "rhs"
   ]
  },
  {
   "cell_type": "code",
   "execution_count": 26,
   "metadata": {},
   "outputs": [
    {
     "data": {
      "text/html": [
       "<html><script type=\"math/tex; mode=display\">\\newcommand{\\Bold}[1]{\\mathbf{#1}}\\left[4 \\, \\pi r^{2} \\rho\\left(r\\right) \\mathrm{u}\\left(\\rho\\left(r\\right)\\right), \\frac{m\\left(r\\right)}{r^{2}}, -\\frac{2 \\, m\\left(r\\right) \\mathrm{u}\\left(\\rho\\left(r\\right)\\right)}{r^{2}}\\right]</script></html>"
      ],
      "text/plain": [
       "[4*pi*r^2*rho(r)*unit_step(rho(r)), m(r)/r^2, -2*m(r)*unit_step(rho(r))/r^2]"
      ]
     },
     "execution_count": 26,
     "metadata": {},
     "output_type": "execute_result"
    }
   ],
   "source": [
    "rhs[0] = rhs[0] * unit_step(rho(r))\n",
    "rhs[2] = rhs[2] * unit_step(rho(r))\n",
    "rhs"
   ]
  },
  {
   "cell_type": "code",
   "execution_count": 27,
   "metadata": {},
   "outputs": [
    {
     "data": {
      "text/html": [
       "<html><script type=\"math/tex; mode=display\">\\newcommand{\\Bold}[1]{\\mathbf{#1}}\\left[4 \\, \\pi r^{2} \\rho\\left(r\\right) \\mathrm{u}\\left(\\rho\\left(r\\right)\\right), \\frac{m\\left(r\\right)}{r^{2}}, -\\frac{2 \\, m\\left(r\\right) \\mathrm{u}\\left(\\rho\\left(r\\right)\\right)}{r^{2}}, \\mathrm{u}\\left(\\rho\\left(r\\right)\\right)\\right]</script></html>"
      ],
      "text/plain": [
       "[4*pi*r^2*rho(r)*unit_step(rho(r)),\n",
       " m(r)/r^2,\n",
       " -2*m(r)*unit_step(rho(r))/r^2,\n",
       " unit_step(rho(r))]"
      ]
     },
     "execution_count": 27,
     "metadata": {},
     "output_type": "execute_result"
    }
   ],
   "source": [
    "rhs.append(1 * unit_step(rho(r)))\n",
    "rhs"
   ]
  },
  {
   "cell_type": "code",
   "execution_count": 28,
   "metadata": {},
   "outputs": [
    {
     "data": {
      "text/html": [
       "<html><script type=\"math/tex; mode=display\">\\newcommand{\\Bold}[1]{\\mathbf{#1}}\\left[4 \\, \\pi r^{2} \\rho_{1} \\mathrm{u}\\left(\\rho_{1}\\right), \\frac{m_{1}}{r^{2}}, -\\frac{2 \\, m_{1} \\mathrm{u}\\left(\\rho_{1}\\right)}{r^{2}}, \\mathrm{u}\\left(\\rho_{1}\\right)\\right]</script></html>"
      ],
      "text/plain": [
       "[4*pi*r^2*rho_1*unit_step(rho_1),\n",
       " m_1/r^2,\n",
       " -2*m_1*unit_step(rho_1)/r^2,\n",
       " unit_step(rho_1)]"
      ]
     },
     "execution_count": 28,
     "metadata": {},
     "output_type": "execute_result"
    }
   ],
   "source": [
    "var('m_1 Phi_1 rho_1 r_1')\n",
    "rhs = [y.subs({m(r): m_1, Phi(r): Phi_1, rho(r): rho_1}) for y in rhs]\n",
    "rhs"
   ]
  },
  {
   "cell_type": "code",
   "execution_count": 29,
   "metadata": {},
   "outputs": [],
   "source": [
    "rho_c = 1\n",
    "r_min = 1e-8\n",
    "r_max = 1\n",
    "np = 200\n",
    "delta_r = (r_max - r_min) / (np-1)"
   ]
  },
  {
   "cell_type": "code",
   "execution_count": 30,
   "metadata": {},
   "outputs": [],
   "source": [
    "sol = desolve_system_rk4(rhs, vars=(m_1, Phi_1, rho_1, r_1), ivar=r, \n",
    "                         ics=[r_min, 0, 0, rho_c, r_min], \n",
    "                         end_points=r_max, step=delta_r)"
   ]
  },
  {
   "cell_type": "code",
   "execution_count": 31,
   "metadata": {},
   "outputs": [
    {
     "data": {
      "text/html": [
       "<html><script type=\"math/tex; mode=display\">\\newcommand{\\Bold}[1]{\\mathbf{#1}}\\left[\\left[1.00000000000000 \\times 10^{-8}, 0, 0, 1, 1.00000000000000 \\times 10^{-8}\\right], \\left[0.00502513557788945, 5.31450779388153 \\times 10^{-07}, 6.61093383900868 \\times 10^{-05}, 0.9998677813232199, 0.005025135577889449\\right], \\left[0.0100502611557789, 4.25098772067275 \\times 10^{-06}, 0.000225597211871204, 0.9995488055762576, 0.0100502611557789\\right], \\left[0.01507538673366835, 1.43426583858054 \\times 10^{-05}, 0.0004901319257912, 0.9990197361484175, 0.01507538673366835\\right], \\left[0.0201005123115578, 3.39824144477692 \\times 10^{-05}, 0.000860123055770768, 0.9982797538884585, 0.0201005123115578\\right], \\left[0.02512563788944725, 6.63340827691725 \\times 10^{-05}, 0.001335517840616862, 0.9973289643187663, 0.02512563788944725\\right], \\left[0.0301507634673367, 0.000114545342117682, 0.001916160150486661, 0.9961676796990266, 0.0301507634673367\\right], \\left[0.03517588904522615, 0.000181743715045901, 0.002601838124772867, 0.9947963237504542, 0.03517588904522614\\right], \\left[0.0402010146231156, 0.000271032578936277, 0.003392294808802803, 0.9932154103823944, 0.04020101462311559\\right], \\left[0.04522614020100505, 0.000385487200037859, 0.004287231392838771, 0.9914255372143225, 0.04522614020100504\\right]\\right]</script></html>"
      ],
      "text/plain": [
       "[[1.00000000000000e-8, 0, 0, 1, 1.00000000000000e-8],\n",
       " [0.00502513557788945,\n",
       "  5.31450779388153e-07,\n",
       "  6.61093383900868e-05,\n",
       "  0.9998677813232199,\n",
       "  0.005025135577889449],\n",
       " [0.0100502611557789,\n",
       "  4.25098772067275e-06,\n",
       "  0.000225597211871204,\n",
       "  0.9995488055762576,\n",
       "  0.0100502611557789],\n",
       " [0.01507538673366835,\n",
       "  1.43426583858054e-05,\n",
       "  0.0004901319257912,\n",
       "  0.9990197361484175,\n",
       "  0.01507538673366835],\n",
       " [0.0201005123115578,\n",
       "  3.39824144477692e-05,\n",
       "  0.000860123055770768,\n",
       "  0.9982797538884585,\n",
       "  0.0201005123115578],\n",
       " [0.02512563788944725,\n",
       "  6.63340827691725e-05,\n",
       "  0.001335517840616862,\n",
       "  0.9973289643187663,\n",
       "  0.02512563788944725],\n",
       " [0.0301507634673367,\n",
       "  0.000114545342117682,\n",
       "  0.001916160150486661,\n",
       "  0.9961676796990266,\n",
       "  0.0301507634673367],\n",
       " [0.03517588904522615,\n",
       "  0.000181743715045901,\n",
       "  0.002601838124772867,\n",
       "  0.9947963237504542,\n",
       "  0.03517588904522614],\n",
       " [0.0402010146231156,\n",
       "  0.000271032578936277,\n",
       "  0.003392294808802803,\n",
       "  0.9932154103823944,\n",
       "  0.04020101462311559],\n",
       " [0.04522614020100505,\n",
       "  0.000385487200037859,\n",
       "  0.004287231392838771,\n",
       "  0.9914255372143225,\n",
       "  0.04522614020100504]]"
      ]
     },
     "execution_count": 31,
     "metadata": {},
     "output_type": "execute_result"
    }
   ],
   "source": [
    "sol[:10]"
   ]
  },
  {
   "cell_type": "code",
   "execution_count": 32,
   "metadata": {},
   "outputs": [
    {
     "data": {
      "text/html": [
       "<html><script type=\"math/tex; mode=display\">\\newcommand{\\Bold}[1]{\\mathbf{#1}}\\left[\\left(1.00000000000000 \\times 10^{-8}, 1\\right), \\left(0.00502513557788945, 0.9998677813232199\\right), \\left(0.0100502611557789, 0.9995488055762576\\right), \\left(0.01507538673366835, 0.9990197361484175\\right), \\left(0.0201005123115578, 0.9982797538884585\\right), \\left(0.02512563788944725, 0.9973289643187663\\right), \\left(0.0301507634673367, 0.9961676796990266\\right), \\left(0.03517588904522615, 0.9947963237504542\\right), \\left(0.0402010146231156, 0.9932154103823944\\right), \\left(0.04522614020100505, 0.9914255372143225\\right)\\right]</script></html>"
      ],
      "text/plain": [
       "[(1.00000000000000e-8, 1),\n",
       " (0.00502513557788945, 0.9998677813232199),\n",
       " (0.0100502611557789, 0.9995488055762576),\n",
       " (0.01507538673366835, 0.9990197361484175),\n",
       " (0.0201005123115578, 0.9982797538884585),\n",
       " (0.02512563788944725, 0.9973289643187663),\n",
       " (0.0301507634673367, 0.9961676796990266),\n",
       " (0.03517588904522615, 0.9947963237504542),\n",
       " (0.0402010146231156, 0.9932154103823944),\n",
       " (0.04522614020100505, 0.9914255372143225)]"
      ]
     },
     "execution_count": 32,
     "metadata": {},
     "output_type": "execute_result"
    }
   ],
   "source": [
    "rho_sol = [(s[0], s[3]) for s in sol]\n",
    "rho_sol[:10]"
   ]
  },
  {
   "cell_type": "code",
   "execution_count": 33,
   "metadata": {},
   "outputs": [
    {
     "data": {
      "image/png": "[encoded data removed]",
      "text/plain": [
       "Graphics object consisting of 1 graphics primitive"
      ]
     },
     "execution_count": 33,
     "metadata": {},
     "output_type": "execute_result"
    }
   ],
   "source": [
    "graph = line(rho_sol, axes_labels=[r'$r$', r'$\\rho$'], gridlines=True)\n",
    "graph"
   ]
  },
  {
   "cell_type": "code",
   "execution_count": 34,
   "metadata": {},
   "outputs": [
    {
     "data": {
      "text/html": [
       "<html><script type=\"math/tex; mode=display\">\\newcommand{\\Bold}[1]{\\mathbf{#1}}\\left[\\left(1.00000000000000 \\times 10^{-8}, 0\\right), \\left(0.00502513557788945, 6.61093383900868 \\times 10^{-05}\\right), \\left(0.0100502611557789, 0.000225597211871204\\right), \\left(0.01507538673366835, 0.0004901319257912\\right), \\left(0.0201005123115578, 0.000860123055770768\\right), \\left(0.02512563788944725, 0.001335517840616862\\right), \\left(0.0301507634673367, 0.001916160150486661\\right), \\left(0.03517588904522615, 0.002601838124772867\\right), \\left(0.0402010146231156, 0.003392294808802803\\right), \\left(0.04522614020100505, 0.004287231392838771\\right)\\right]</script></html>"
      ],
      "text/plain": [
       "[(1.00000000000000e-8, 0),\n",
       " (0.00502513557788945, 6.61093383900868e-05),\n",
       " (0.0100502611557789, 0.000225597211871204),\n",
       " (0.01507538673366835, 0.0004901319257912),\n",
       " (0.0201005123115578, 0.000860123055770768),\n",
       " (0.02512563788944725, 0.001335517840616862),\n",
       " (0.0301507634673367, 0.001916160150486661),\n",
       " (0.03517588904522615, 0.002601838124772867),\n",
       " (0.0402010146231156, 0.003392294808802803),\n",
       " (0.04522614020100505, 0.004287231392838771)]"
      ]
     },
     "execution_count": 34,
     "metadata": {},
     "output_type": "execute_result"
    }
   ],
   "source": [
    "Phi_sol = [(s[0], s[2]) for s in sol]\n",
    "Phi_sol[:10]"
   ]
  },
  {
   "cell_type": "code",
   "execution_count": 35,
   "metadata": {},
   "outputs": [
    {
     "data": {
      "image/png": "[encoded data removed]",
      "text/plain": [
       "Graphics object consisting of 1 graphics primitive"
      ]
     },
     "execution_count": 35,
     "metadata": {},
     "output_type": "execute_result"
    }
   ],
   "source": [
    "graph = line(Phi_sol, axes_labels=[r'$r$', r'$\\Phi$'], gridlines=True)\n",
    "graph"
   ]
  },
  {
   "cell_type": "code",
   "execution_count": null,
   "metadata": {},
   "outputs": [],
   "source": []
  }
 ],
 "metadata": {
  "kernelspec": {
   "display_name": "SageMath 8.6",
   "language": "",
   "name": "sagemath"
  },
  "language_info": {
   "codemirror_mode": {
    "name": "ipython",
    "version": 2
   },
   "file_extension": ".py",
   "mimetype": "text/x-python",
   "name": "python",
   "nbconvert_exporter": "python",
   "pygments_lexer": "ipython2",
   "version": "2.7.15"
  }
 },
 "nbformat": 4,
 "nbformat_minor": 1
}
